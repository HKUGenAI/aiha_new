{
 "cells": [
  {
   "cell_type": "code",
   "execution_count": 18,
   "metadata": {},
   "outputs": [],
   "source": [
    "import os\n",
    "import pandas as pd"
   ]
  },
  {
   "cell_type": "code",
   "execution_count": 19,
   "metadata": {},
   "outputs": [
    {
     "data": {
      "text/plain": [
       "'/home/cxiang/aiha_new'"
      ]
     },
     "execution_count": 19,
     "metadata": {},
     "output_type": "execute_result"
    }
   ],
   "source": [
    "current_dir = os.getcwd()\n",
    "current_dir"
   ]
  },
  {
   "cell_type": "code",
   "execution_count": 20,
   "metadata": {},
   "outputs": [],
   "source": [
    "resource_name = \"90YearsofDedication\"\n",
    "md_result_path = os.path.join(current_dir, f\"results/md/{resource_name}\")"
   ]
  },
  {
   "cell_type": "markdown",
   "metadata": {},
   "source": [
    "### Create db directory"
   ]
  },
  {
   "cell_type": "code",
   "execution_count": 21,
   "metadata": {},
   "outputs": [],
   "source": [
    "db_path = os.path.join(current_dir, f\"chroma\")\n",
    "media_path = os.path.join(db_path, f\"media/{resource_name}\")\n",
    "if not os.path.exists(media_path):\n",
    "    os.makedirs(media_path)"
   ]
  },
  {
   "cell_type": "markdown",
   "metadata": {},
   "source": [
    "### Load MD resources"
   ]
  },
  {
   "cell_type": "code",
   "execution_count": 22,
   "metadata": {},
   "outputs": [],
   "source": [
    "md_path = os.path.join(current_dir, f\"{md_result_path}/{resource_name}.md\")\n",
    "with open(md_path, \"r\") as file:\n",
    "    md = file.read()"
   ]
  },
  {
   "cell_type": "markdown",
   "metadata": {},
   "source": [
    "move picture files to db"
   ]
  },
  {
   "cell_type": "code",
   "execution_count": 23,
   "metadata": {},
   "outputs": [],
   "source": [
    "for file in os.listdir(md_result_path):\n",
    "    if file.endswith(\".jpeg\") or file.endswith(\".png\"):\n",
    "        os.rename(f\"{md_result_path}/{file}\", f\"{media_path}/{file}\")"
   ]
  },
  {
   "cell_type": "markdown",
   "metadata": {},
   "source": [
    "### Chunk MD"
   ]
  },
  {
   "cell_type": "code",
   "execution_count": 24,
   "metadata": {},
   "outputs": [
    {
     "name": "stdout",
     "output_type": "stream",
     "text": [
      "<class 'pandas.core.frame.DataFrame'>\n",
      "RangeIndex: 284 entries, 0 to 283\n",
      "Data columns (total 2 columns):\n",
      " #   Column  Non-Null Count  Dtype \n",
      "---  ------  --------------  ----- \n",
      " 0   chunks  284 non-null    object\n",
      " 1   title   284 non-null    object\n",
      "dtypes: object(2)\n",
      "memory usage: 4.6+ KB\n"
     ]
    }
   ],
   "source": [
    "import re\n",
    "\n",
    "# Split by headers (# to ####)\n",
    "sections = re.split(r'\\n(?=#{1,4}\\s)', md)\n",
    "\n",
    "# Filter out empty sections and clean up\n",
    "chunks = [section.strip() for section in sections if section.strip()]\n",
    "\n",
    "# Create chunks dictionary with section titles and content\n",
    "chunks_grouped = []\n",
    "section_titles = []  # List to store just the titles\n",
    "\n",
    "parent_section = None\n",
    "for i, chunk in enumerate(chunks):\n",
    "    # Get the title from first line (if it starts with #)\n",
    "    title_match = re.match(r'^#{1,4}\\s+(.+)$', chunk.split('\\n')[0])\n",
    "    if title_match:\n",
    "        title = title_match.group(1)\n",
    "        section_titles.append(title)\n",
    "    else:\n",
    "        title = \"Untitled Section\"\n",
    "        section_titles.append(title)\n",
    "        \n",
    "    # Check if the current chunk is too short\n",
    "    if len(chunk) < 200 and parent_section:\n",
    "        # Append to the parent section\n",
    "        chunks_grouped[parent_section] += \"\\n\" + chunk\n",
    "        chunks_grouped.append(None)\n",
    "    else:\n",
    "        # Store chunk with its title\n",
    "        chunks_grouped.append(chunk)\n",
    "        parent_section = i\n",
    "\n",
    "# Print number of chunks and titles found\n",
    "df = pd.DataFrame({\"chunks\":chunks_grouped, \"title\": section_titles })\n",
    "df.dropna(inplace=True, axis=0)\n",
    "df.reset_index(drop=True, inplace=True)\n",
    "df.info()"
   ]
  },
  {
   "cell_type": "markdown",
   "metadata": {},
   "source": [
    "Save the chunks in db for citation use"
   ]
  },
  {
   "cell_type": "code",
   "execution_count": 25,
   "metadata": {},
   "outputs": [],
   "source": [
    "source_path = os.path.join(current_dir, f\"chroma/source/{resource_name}\")\n",
    "if not os.path.exists(source_path):\n",
    "    os.makedirs(source_path)\n",
    "df.to_csv(f\"{source_path}/chunks.csv\", index=True, index_label=\"chunk_id\")"
   ]
  },
  {
   "cell_type": "markdown",
   "metadata": {},
   "source": [
    "Split chunks that are too big"
   ]
  },
  {
   "cell_type": "code",
   "execution_count": 26,
   "metadata": {},
   "outputs": [
    {
     "name": "stdout",
     "output_type": "stream",
     "text": [
      "Original chunks: 284\n",
      "New chunks: 2079\n"
     ]
    }
   ],
   "source": [
    "from langchain_text_splitters import RecursiveCharacterTextSplitter\n",
    "\n",
    "# Initialize text splitter with desired parameters\n",
    "text_splitter = RecursiveCharacterTextSplitter(\n",
    "    chunk_size=512,\n",
    "    chunk_overlap=128,\n",
    "    length_function=len,\n",
    ")\n",
    "\n",
    "# Create lists to store the new chunks\n",
    "new_texts = []\n",
    "original_chunk_ids = []\n",
    "chunk_titles = []\n",
    "chunk_images = []\n",
    "new_chunk_ids = 0\n",
    "\n",
    "# Regular expression to find markdown image syntax\n",
    "img_pattern = r'!\\[.*?\\]\\((.*?)\\)'\n",
    "\n",
    "\n",
    "# Process each chunk in the original dataframe\n",
    "for idx, row in df.iterrows():\n",
    "    chunks = text_splitter.split_text(row['chunks'])\n",
    "        \n",
    "    # If the text needs to be split\n",
    "    for chunk in chunks:\n",
    "        # Replace image paths with full media path\n",
    "        chunk = re.sub(img_pattern, \n",
    "                        lambda m: f'![](chroma/media/{resource_name}/{os.path.basename(m.group(1))})', \n",
    "                        chunk)\n",
    "        \n",
    "        # Extract images from the chunk\n",
    "        images = re.findall(img_pattern, chunk)\n",
    "        images = [os.path.join(media_path, img) for img in images]\n",
    "\n",
    "        new_texts.append(chunk)\n",
    "        original_chunk_ids.append(idx)\n",
    "        chunk_titles.append(row['title'])\n",
    "        chunk_images.append(images)  # Add all images found in the original chunk\n",
    "        new_chunk_ids += 1\n",
    "\n",
    "# Create new dataframe with split chunks\n",
    "chunks_to_embed = pd.DataFrame({\n",
    "    'original_chunk_id': original_chunk_ids,\n",
    "    'text': new_texts,\n",
    "    'resource_name': [resource_name] * len(new_texts),\n",
    "    'images': chunk_images,\n",
    "    'new_chunk_id': [f\"{resource_name}_{i}\" for i in range(new_chunk_ids)],\n",
    "    'chunk_title': chunk_titles\n",
    "})\n",
    "\n",
    "print(f\"Original chunks: {len(df)}\")\n",
    "print(f\"New chunks: {len(chunks_to_embed)}\")\n",
    "chunks_to_embed.to_json(\"temp.json\", orient=\"records\")"
   ]
  },
  {
   "cell_type": "markdown",
   "metadata": {},
   "source": [
    "### Create chroma DB"
   ]
  },
  {
   "cell_type": "code",
   "execution_count": 27,
   "metadata": {},
   "outputs": [],
   "source": [
    "import chromadb\n",
    "from chromadb.utils import embedding_functions\n",
    "from chromadb.utils.data_loaders import ImageLoader\n",
    "\n",
    "data_loader = ImageLoader()\n",
    "\n",
    "# clip_ef = embedding_functions.OpenCLIPEmbeddingFunction()\n",
    "sentence_transformer_ef = embedding_functions.SentenceTransformerEmbeddingFunction(\n",
    "    model_name=\"BAAI/bge-m3\"\n",
    ")\n",
    "\n",
    "client = chromadb.PersistentClient(db_path)"
   ]
  },
  {
   "cell_type": "code",
   "execution_count": 28,
   "metadata": {},
   "outputs": [],
   "source": [
    "collection = client.get_or_create_collection(name=\"md_data\", embedding_function=sentence_transformer_ef)\n",
    "\n",
    "collection.add(\n",
    "    documents=chunks_to_embed[\"text\"].tolist(),\n",
    "    metadatas=chunks_to_embed[[\"original_chunk_id\", \"resource_name\", \"chunk_title\"]].to_dict(orient=\"records\"),\n",
    "    ids=chunks_to_embed[\"new_chunk_id\"].tolist(),\n",
    "    # uris=chunks_to_embed[\"images\"].tolist()\n",
    ")"
   ]
  },
  {
   "cell_type": "code",
   "execution_count": 29,
   "metadata": {},
   "outputs": [
    {
     "data": {
      "text/plain": [
       "{'ids': [['90YearsofDedication_1527',\n",
       "   '75YearsofEngineering_7',\n",
       "   '75YearsofEngineering_566',\n",
       "   '90YearsofDedication_952',\n",
       "   '90YearsofDedication_87']],\n",
       " 'embeddings': None,\n",
       " 'documents': [['# Engineering Education in the New Millennium',\n",
       "   '## ENGINEERING TOPICS',\n",
       "   '#### INDUSTRIAL ENGINEERING',\n",
       "   '- Engineering\\n- Wireless Communications',\n",
       "   'Engineering, as explained in the dictionary, means \"the practical application of scientific knowledge in the design, construction and control of machines, public services such as roads, bridges, etc., electrical apparatus, chemicals, etc.\" It is therefore apparent that engineering affects every aspect of our communities, and it will always remain essential and vital for the betterment of the quality of our lives.\\n\\n![](chroma/media/90YearsofDedication/_page_26_Picture_4.jpeg)']],\n",
       " 'uris': None,\n",
       " 'data': None,\n",
       " 'metadatas': [[{'chunk_title': 'Abstract',\n",
       "    'original_chunk_id': 204,\n",
       "    'resource_name': '90YearsofDedication'},\n",
       "   {'chunk_title': 'ENGINEERING TOPICS',\n",
       "    'original_chunk_id': 3,\n",
       "    'resource_name': '75YearsofEngineering'},\n",
       "   {'chunk_title': 'INDUSTRIAL ENGINEERING',\n",
       "    'original_chunk_id': 58,\n",
       "    'resource_name': '75YearsofEngineering'},\n",
       "   {'chunk_title': 'Research Programmes (MPhil and PhD)',\n",
       "    'original_chunk_id': 138,\n",
       "    'resource_name': '90YearsofDedication'},\n",
       "   {'chunk_title': 'Dr. Chow Yei-ching',\n",
       "    'original_chunk_id': 18,\n",
       "    'resource_name': '90YearsofDedication'}]],\n",
       " 'distances': [[0.7175059914588928,\n",
       "   0.7184492349624634,\n",
       "   0.7305139899253845,\n",
       "   0.739142894744873,\n",
       "   0.7458047866821289]],\n",
       " 'included': [<IncludeEnum.distances: 'distances'>,\n",
       "  <IncludeEnum.documents: 'documents'>,\n",
       "  <IncludeEnum.metadatas: 'metadatas'>]}"
      ]
     },
     "execution_count": 29,
     "metadata": {},
     "output_type": "execute_result"
    }
   ],
   "source": [
    "collection.query(\n",
    "    query_texts=[\"Engineering\"],\n",
    "    n_results=5\n",
    ")"
   ]
  }
 ],
 "metadata": {
  "kernelspec": {
   "display_name": "layout",
   "language": "python",
   "name": "python3"
  },
  "language_info": {
   "codemirror_mode": {
    "name": "ipython",
    "version": 3
   },
   "file_extension": ".py",
   "mimetype": "text/x-python",
   "name": "python",
   "nbconvert_exporter": "python",
   "pygments_lexer": "ipython3",
   "version": "3.10.15"
  }
 },
 "nbformat": 4,
 "nbformat_minor": 2
}
