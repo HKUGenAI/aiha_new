{
 "cells": [
  {
   "cell_type": "code",
   "execution_count": null,
   "metadata": {},
   "outputs": [],
   "source": [
    "import os\n",
    "import yaml\n",
    "import fitz\n",
    "import pandas as pd\n",
    "\n",
    "from tqdm import tqdm\n",
    "from layout.layout_detect_yolo import LayoutDetectionYOLO"
   ]
  },
  {
   "cell_type": "markdown",
   "metadata": {},
   "source": [
    "## Convert PDF to Images"
   ]
  },
  {
   "cell_type": "code",
   "execution_count": 7,
   "metadata": {},
   "outputs": [
    {
     "name": "stderr",
     "output_type": "stream",
     "text": [
      "Converting PDF to images: 100%|██████████| 301/301 [00:00<00:00, 10217.43it/s]\n"
     ]
    }
   ],
   "source": [
    "file_name = \"75YearsofEngineering\"\n",
    "input_pdf = f\"inputs/{file_name}.pdf\"\n",
    "pdf = fitz.open(input_pdf) \n",
    "\n",
    "if file_name not in os.listdir(\"images\"):\n",
    "    os.mkdir(f\"images/{file_name}\")\n",
    "\n",
    "image_list = []\n",
    "\n",
    "for page in tqdm(pdf, desc=\"Converting PDF to images\"):\n",
    "    path_out = f\"images/{file_name}/{page.number}.png\"\n",
    "\n",
    "    if os.path.exists(path_out):\n",
    "        image_list.append(path_out)\n",
    "        continue\n",
    "\n",
    "    pix = page.get_pixmap()\n",
    "    pix.save(path_out)\n",
    "    image_list.append(path_out)\n",
    "    "
   ]
  },
  {
   "cell_type": "markdown",
   "metadata": {},
   "source": [
    "## Layout Prediction"
   ]
  },
  {
   "cell_type": "code",
   "execution_count": 8,
   "metadata": {},
   "outputs": [
    {
     "name": "stderr",
     "output_type": "stream",
     "text": [
      "Predicting layout: 100%|██████████| 301/301 [00:10<00:00, 27.41it/s]\n"
     ]
    }
   ],
   "source": [
    "with open('configs/layout_yolo.yaml') as f:\n",
    "    config = yaml.safe_load(f)\n",
    "    \n",
    "layout_detector = LayoutDetectionYOLO(config[\"model_config\"])\n",
    "predictions = layout_detector.predict(image_list, f\"results/{file_name}\")"
   ]
  },
  {
   "cell_type": "markdown",
   "metadata": {},
   "source": [
    "## Save Bounding Boxes"
   ]
  },
  {
   "cell_type": "code",
   "execution_count": 9,
   "metadata": {},
   "outputs": [
    {
     "name": "stdout",
     "output_type": "stream",
     "text": [
      "{0: 'title', 1: 'plain text', 2: 'abandon', 3: 'figure', 4: 'figure_caption', 5: 'table', 6: 'table_caption', 7: 'table_footnote', 8: 'isolate_formula', 9: 'formula_caption'}\n"
     ]
    }
   ],
   "source": [
    "doc_bbs = []\n",
    "doc_images = []\n",
    "\n",
    "print(predictions[0].names)\n",
    "\n",
    "for i, prediciton in enumerate(predictions):\n",
    "    type_map = prediciton.names\n",
    "    image_array = prediciton.orig_img\n",
    "    doc_images.append({\n",
    "        \"id\": f\"{file_name}_{i}\",\n",
    "        \"page\": i,\n",
    "        \"image\": image_array\n",
    "    })\n",
    "    \n",
    "    for j, box in enumerate(prediciton.boxes):\n",
    "        x1, y1, x2, y2 = map(int, box.xyxy.tolist()[0])\n",
    "\n",
    "        doc_bbs.append({\n",
    "            \"id\": f\"{file_name}_{i}_{j}\",\n",
    "            \"page\": i,\n",
    "            \"xyxy\": box.xyxy.tolist(),\n",
    "            \"image_array\": image_array[y1:y2, x1:x2],\n",
    "            \"type\": int(box.cls),\n",
    "            \"type_str\": type_map[int(box.cls)],\n",
    "            \"type_conf\": float(box.conf),\n",
    "        })\n",
    "        \n",
    "df_bbs = pd.DataFrame(doc_bbs)\n",
    "df_bbs.to_pickle(f\"results/{file_name}_bbs.pkl\")\n",
    "\n",
    "df_images = pd.DataFrame(doc_images)\n",
    "df_images.to_pickle(f\"results/{file_name}.pkl\")"
   ]
  },
  {
   "cell_type": "markdown",
   "metadata": {},
   "source": [
    "## OCR"
   ]
  },
  {
   "cell_type": "code",
   "execution_count": 10,
   "metadata": {},
   "outputs": [
    {
     "name": "stderr",
     "output_type": "stream",
     "text": [
      "OCR: 100%|██████████| 1987/1987 [05:27<00:00,  6.06it/s, Text=]         \n"
     ]
    },
    {
     "name": "stdout",
     "output_type": "stream",
     "text": [
      "0                         NaN\n",
      "1                            \n",
      "2     75 Years of Engineering\n",
      "3     75 Years of Engineering\n",
      "4                         NaN\n",
      "Name: ocr_text, dtype: object\n"
     ]
    }
   ],
   "source": [
    "from paddleocr import PaddleOCR\n",
    "\n",
    "ocr = PaddleOCR(use_angle_cls=True, lang='en', show_log=False)\n",
    "\n",
    "with tqdm(total=df_bbs.shape[0], desc=\"OCR\") as pbar: \n",
    "    for i, row in df_bbs.iterrows():\n",
    "        pbar.update(1)\n",
    "\n",
    "        if \"image_array\" not in row or row[\"type\"] in [3, 4, 6, 9] or row[\"image_array\"].shape[0] < 1 or row[\"image_array\"].shape[1] < 1:\n",
    "            continue\n",
    "\n",
    "        results = ocr.ocr(row[\"image_array\"], cls=True)\n",
    "        string = \"\"\n",
    "        for line in results:\n",
    "            if line:\n",
    "                for word in line:\n",
    "                    string += f\" {word[1][0]}\"\n",
    "\n",
    "        pbar.set_postfix({\"Text\": string[:10]})\n",
    "        df_bbs.at[i, \"ocr_text\"] = string\n",
    "\n",
    "print(df_bbs[\"ocr_text\"].head())\n",
    "\n",
    "df_bbs.to_pickle(f\"results/{file_name}_ocr.pkl\")\n",
    "df_bbs.to_excel(f\"results/{file_name}_ocr.xlsx\")"
   ]
  }
 ],
 "metadata": {
  "kernelspec": {
   "display_name": "layout",
   "language": "python",
   "name": "python3"
  },
  "language_info": {
   "codemirror_mode": {
    "name": "ipython",
    "version": 3
   },
   "file_extension": ".py",
   "mimetype": "text/x-python",
   "name": "python",
   "nbconvert_exporter": "python",
   "pygments_lexer": "ipython3",
   "version": "3.10.15"
  }
 },
 "nbformat": 4,
 "nbformat_minor": 2
}
